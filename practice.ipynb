{
 "cells": [
  {
   "cell_type": "code",
   "execution_count": 12,
   "id": "4d3cf5df",
   "metadata": {},
   "outputs": [
    {
     "name": "stdout",
     "output_type": "stream",
     "text": [
      "(1, 2, 3) (2,) ((1, 2, 3), (2,))\n"
     ]
    }
   ],
   "source": [
    "def printall(*args):\n",
    "    print(*args,args)\n",
    "printall((1,2,3),(2,))"
   ]
  },
  {
   "cell_type": "code",
   "execution_count": 7,
   "id": "570483f4",
   "metadata": {},
   "outputs": [
    {
     "name": "stdout",
     "output_type": "stream",
     "text": [
      "<class 'tuple'> (1, 2, 3)\n"
     ]
    }
   ],
   "source": [
    "args=1,2,3\n",
    "print(type(args),args)"
   ]
  },
  {
   "cell_type": "code",
   "execution_count": 13,
   "id": "de782939",
   "metadata": {},
   "outputs": [
    {
     "name": "stdout",
     "output_type": "stream",
     "text": [
      "True True\n"
     ]
    }
   ],
   "source": [
    "a='kiio'\n",
    "b='kiio'\n",
    "print(a==b,a is b)"
   ]
  },
  {
   "cell_type": "code",
   "execution_count": 14,
   "id": "7c675b54",
   "metadata": {},
   "outputs": [
    {
     "name": "stdout",
     "output_type": "stream",
     "text": [
      "True False\n"
     ]
    }
   ],
   "source": [
    "a=[1,2,3]\n",
    "b=[1,2,3]\n",
    "print(a==b,a is b)"
   ]
  },
  {
   "cell_type": "code",
   "execution_count": 16,
   "id": "1e5dc3b0",
   "metadata": {},
   "outputs": [
    {
     "data": {
      "text/plain": [
       "[1, 3]"
      ]
     },
     "execution_count": 16,
     "metadata": {},
     "output_type": "execute_result"
    }
   ],
   "source": [
    "a.remove(2)\n",
    "a"
   ]
  },
  {
   "cell_type": "code",
   "execution_count": 17,
   "id": "69f6ebdf",
   "metadata": {},
   "outputs": [
    {
     "data": {
      "text/plain": [
       "1"
      ]
     },
     "execution_count": 17,
     "metadata": {},
     "output_type": "execute_result"
    }
   ],
   "source": [
    "a.pop(0)"
   ]
  },
  {
   "cell_type": "code",
   "execution_count": 18,
   "id": "671ee18c",
   "metadata": {},
   "outputs": [
    {
     "data": {
      "text/plain": [
       "[3]"
      ]
     },
     "execution_count": 18,
     "metadata": {},
     "output_type": "execute_result"
    }
   ],
   "source": [
    "a"
   ]
  },
  {
   "cell_type": "code",
   "execution_count": 19,
   "id": "7930a850",
   "metadata": {},
   "outputs": [
    {
     "data": {
      "text/plain": [
       "[1, 2, 3]"
      ]
     },
     "execution_count": 19,
     "metadata": {},
     "output_type": "execute_result"
    }
   ],
   "source": [
    "b"
   ]
  },
  {
   "cell_type": "code",
   "execution_count": 22,
   "id": "8dfdeb22",
   "metadata": {},
   "outputs": [
    {
     "data": {
      "text/plain": [
       "'ankit#kiio#summi'"
      ]
     },
     "execution_count": 22,
     "metadata": {},
     "output_type": "execute_result"
    }
   ],
   "source": [
    "s='ankit,kiio,summi'\n",
    "\"#\".join(s.split(','))"
   ]
  },
  {
   "cell_type": "code",
   "execution_count": 21,
   "id": "d302a7e4",
   "metadata": {},
   "outputs": [
    {
     "data": {
      "text/plain": [
       "'ankit'"
      ]
     },
     "execution_count": 21,
     "metadata": {},
     "output_type": "execute_result"
    }
   ],
   "source": [
    "s='   ankit    '\n",
    "s.strip()"
   ]
  },
  {
   "cell_type": "code",
   "execution_count": 23,
   "id": "65f8385a",
   "metadata": {},
   "outputs": [
    {
     "data": {
      "text/plain": [
       "(3, 1)"
      ]
     },
     "execution_count": 23,
     "metadata": {},
     "output_type": "execute_result"
    }
   ],
   "source": [
    "divmod(7,2)"
   ]
  },
  {
   "cell_type": "code",
   "execution_count": 25,
   "id": "14d1e9f1",
   "metadata": {},
   "outputs": [
    {
     "data": {
      "text/plain": [
       "(3, 1)"
      ]
     },
     "execution_count": 25,
     "metadata": {},
     "output_type": "execute_result"
    }
   ],
   "source": [
    "divmod(*(7,2))"
   ]
  },
  {
   "cell_type": "code",
   "execution_count": 26,
   "id": "690c2530",
   "metadata": {},
   "outputs": [
    {
     "name": "stdout",
     "output_type": "stream",
     "text": [
      "(7, 2) (7, 2)\n"
     ]
    }
   ],
   "source": [
    "args1=(7,2)\n",
    "args2=7,2\n",
    "print(args1,args2)"
   ]
  },
  {
   "cell_type": "code",
   "execution_count": 30,
   "id": "8faeffbc",
   "metadata": {},
   "outputs": [
    {
     "name": "stdout",
     "output_type": "stream",
     "text": [
      "1 3\n",
      "2 4\n"
     ]
    }
   ],
   "source": [
    "for a,b in zip([1,2],[3,4]):\n",
    "    print(a,b)"
   ]
  },
  {
   "cell_type": "code",
   "execution_count": 31,
   "id": "a070b98c",
   "metadata": {},
   "outputs": [
    {
     "data": {
      "text/plain": [
       "[(1, 3), (2, 4)]"
      ]
     },
     "execution_count": 31,
     "metadata": {},
     "output_type": "execute_result"
    }
   ],
   "source": [
    "list(zip([1,2],[3,4]))"
   ]
  },
  {
   "cell_type": "code",
   "execution_count": 32,
   "id": "7d2f1e56",
   "metadata": {},
   "outputs": [
    {
     "data": {
      "text/plain": [
       "[(0, 3), (1, 4)]"
      ]
     },
     "execution_count": 32,
     "metadata": {},
     "output_type": "execute_result"
    }
   ],
   "source": [
    "list(enumerate([3,4]))"
   ]
  },
  {
   "cell_type": "code",
   "execution_count": 33,
   "id": "c1d12de0",
   "metadata": {},
   "outputs": [
    {
     "data": {
      "text/plain": [
       "array([[ 0.47298583, -0.68142588,  0.2424395 , -1.70073563],\n",
       "       [ 0.75314283, -1.53472134,  0.00512708, -0.12022767],\n",
       "       [-0.80698188,  2.87181939, -0.59782292,  0.47245699]])"
      ]
     },
     "execution_count": 33,
     "metadata": {},
     "output_type": "execute_result"
    }
   ],
   "source": [
    "import numpy as np\n",
    "reg=np.random.RandomState(12)\n",
    "reg.randn(3,4)"
   ]
  },
  {
   "cell_type": "code",
   "execution_count": 35,
   "id": "0023066a",
   "metadata": {},
   "outputs": [
    {
     "data": {
      "text/plain": [
       "array([[ 0.47298583, -0.68142588,  0.2424395 , -1.70073563],\n",
       "       [ 0.75314283, -1.53472134,  0.00512708, -0.12022767],\n",
       "       [-0.80698188,  2.87181939, -0.59782292,  0.47245699]])"
      ]
     },
     "execution_count": 35,
     "metadata": {},
     "output_type": "execute_result"
    }
   ],
   "source": [
    "reg=np.random.RandomState(12)\n",
    "reg.randn(3,4)"
   ]
  },
  {
   "cell_type": "code",
   "execution_count": 36,
   "id": "175d3ea8",
   "metadata": {},
   "outputs": [
    {
     "data": {
      "text/plain": [
       "array([[ 0.47298583, -0.68142588,  0.2424395 , -1.70073563],\n",
       "       [ 0.75314283, -1.53472134,  0.00512708, -0.12022767],\n",
       "       [-0.80698188,  2.87181939, -0.59782292,  0.47245699]])"
      ]
     },
     "execution_count": 36,
     "metadata": {},
     "output_type": "execute_result"
    }
   ],
   "source": [
    "reg=np.random.RandomState(12)\n",
    "reg.randn(3,4)"
   ]
  },
  {
   "cell_type": "code",
   "execution_count": 37,
   "id": "a2b17717",
   "metadata": {},
   "outputs": [],
   "source": [
    "np.random.seed(1)"
   ]
  },
  {
   "cell_type": "code",
   "execution_count": 38,
   "id": "ff18140a",
   "metadata": {},
   "outputs": [
    {
     "data": {
      "text/plain": [
       "array([ 1.62434536, -0.61175641, -0.52817175])"
      ]
     },
     "execution_count": 38,
     "metadata": {},
     "output_type": "execute_result"
    }
   ],
   "source": [
    "np.random.randn(3)"
   ]
  },
  {
   "cell_type": "code",
   "execution_count": 39,
   "id": "a3404f99",
   "metadata": {},
   "outputs": [
    {
     "data": {
      "text/plain": [
       "array([-1.07296862,  0.86540763, -2.3015387 ])"
      ]
     },
     "execution_count": 39,
     "metadata": {},
     "output_type": "execute_result"
    }
   ],
   "source": [
    "np.random.randn(3)"
   ]
  },
  {
   "cell_type": "code",
   "execution_count": 41,
   "id": "4dd06cb8",
   "metadata": {},
   "outputs": [
    {
     "data": {
      "text/plain": [
       "array([ 1.62434536, -0.61175641, -0.52817175])"
      ]
     },
     "execution_count": 41,
     "metadata": {},
     "output_type": "execute_result"
    }
   ],
   "source": [
    "np.random.seed(1)\n",
    "np.random.randn(3)"
   ]
  },
  {
   "cell_type": "code",
   "execution_count": 42,
   "id": "8898cd05",
   "metadata": {},
   "outputs": [
    {
     "data": {
      "text/plain": [
       "array([ 1.62434536, -0.61175641, -0.52817175])"
      ]
     },
     "execution_count": 42,
     "metadata": {},
     "output_type": "execute_result"
    }
   ],
   "source": [
    "np.random.seed(1)\n",
    "np.random.randn(3)"
   ]
  },
  {
   "cell_type": "code",
   "execution_count": 43,
   "id": "8b7ed8c5",
   "metadata": {},
   "outputs": [
    {
     "data": {
      "text/plain": [
       "'12 is int value and ankit is string'"
      ]
     },
     "execution_count": 43,
     "metadata": {},
     "output_type": "execute_result"
    }
   ],
   "source": [
    "a=12\n",
    "b='ankit'\n",
    "'%d is int value and %s is string' % (a,b)"
   ]
  },
  {
   "cell_type": "code",
   "execution_count": 44,
   "id": "4a590b32",
   "metadata": {},
   "outputs": [
    {
     "data": {
      "text/plain": [
       "'a is 12 '"
      ]
     },
     "execution_count": 44,
     "metadata": {},
     "output_type": "execute_result"
    }
   ],
   "source": [
    "'a is {0} '.format(a)"
   ]
  },
  {
   "cell_type": "code",
   "execution_count": 46,
   "id": "911cfee4",
   "metadata": {},
   "outputs": [
    {
     "data": {
      "text/plain": [
       "'an 0'"
      ]
     },
     "execution_count": 46,
     "metadata": {},
     "output_type": "execute_result"
    }
   ],
   "source": [
    "import os\n",
    "os.path.abspath('filename')\n",
    "os.path.isdir('dirname')\n",
    "os.path.isfile('filename')\n",
    "os.path.exists('filename')\n",
    "os.path.join('filename','dirname')\n",
    "os.listdir(os.getcwd())"
   ]
  },
  {
   "cell_type": "code",
   "execution_count": 48,
   "id": "95ed1e4c",
   "metadata": {},
   "outputs": [
    {
     "name": "stdout",
     "output_type": "stream",
     "text": [
      "b'ankit'\n"
     ]
    }
   ],
   "source": [
    "import dbm\n",
    "x=dbm.open('captions','c')\n",
    "x['name']='ankit'\n",
    "print(x['name'])"
   ]
  },
  {
   "cell_type": "code",
   "execution_count": 49,
   "id": "37351b38",
   "metadata": {},
   "outputs": [
    {
     "data": {
      "text/plain": [
       "array([[1, 2, 3],\n",
       "       [4, 5, 6]])"
      ]
     },
     "execution_count": 49,
     "metadata": {},
     "output_type": "execute_result"
    }
   ],
   "source": [
    "import pickle\n",
    "s=pickle.dumps(np.array([[1,2,3],[4,5,6]]))\n",
    "pickle.loads(s)"
   ]
  },
  {
   "cell_type": "code",
   "execution_count": 51,
   "id": "860d8280",
   "metadata": {},
   "outputs": [
    {
     "data": {
      "text/plain": [
       "'total 20\\ndrwxr-xr-x 1 Ankit19.Gupta 1049089     0 May 24 19:12 General\\ndrwxr-xr-x 1 Ankit19.Gupta 1049089     0 May 24 19:10 Summary_ML\\ndrwxr-xr-x 1 Ankit19.Gupta 1049089     0 May 24 19:10 Summary_MLOps\\ndrwxr-xr-x 1 Ankit19.Gupta 1049089     0 May 24 19:10 Summary_NLP\\ndrwxr-xr-x 1 Ankit19.Gupta 1049089     0 May 24 19:12 Summary_Project\\ndrwxr-xr-x 1 Ankit19.Gupta 1049089     0 May 24 19:11 Summary_Python\\ndrwxr-xr-x 1 Ankit19.Gupta 1049089     0 May 24 19:10 Summary_SQL\\ndrwxr-xr-x 1 Ankit19.Gupta 1049089     0 May 24 19:11 Summary_Time_Series\\n-rw-r--r-- 1 Ankit19.Gupta 1049089 11445 May 25 15:55 practice.ipynb\\n'"
      ]
     },
     "execution_count": 51,
     "metadata": {},
     "output_type": "execute_result"
    }
   ],
   "source": [
    "import os\n",
    "os.popen('ls -l').read()"
   ]
  },
  {
   "cell_type": "code",
   "execution_count": 53,
   "id": "f0ac7975",
   "metadata": {},
   "outputs": [],
   "source": [
    "#p1 is a point object embedded in a rectangle object and copied the rectangle but point is not copied (shallow copy)\n",
    "#import copy\n",
    "#p2=copy.copy(p1)\n",
    "#copy.deepcopy(box)"
   ]
  },
  {
   "cell_type": "code",
   "execution_count": null,
   "id": "ee00b902",
   "metadata": {},
   "outputs": [],
   "source": [
    "# rectangle has-a (solid arrow) has a point\n",
    "# a hand is-a (inheritance) (hollow arrow) kind of a deck\n",
    "# + to __add__ is operator overloading.. < to __lt__\n",
    "# sum([1,2]+[1,3]) and sum((1,2)) is poymorphism"
   ]
  },
  {
   "cell_type": "code",
   "execution_count": 54,
   "id": "0feff30a",
   "metadata": {},
   "outputs": [
    {
     "data": {
      "text/plain": [
       "1"
      ]
     },
     "execution_count": 54,
     "metadata": {},
     "output_type": "execute_result"
    }
   ],
   "source": [
    "#generator\n",
    "gen=(x**2 for x in [1,2,3])\n",
    "next(gen)"
   ]
  },
  {
   "cell_type": "code",
   "execution_count": 59,
   "id": "281e8f90",
   "metadata": {},
   "outputs": [],
   "source": [
    "def generator():\n",
    "    for i in range(10):\n",
    "        yield i**2"
   ]
  },
  {
   "cell_type": "code",
   "execution_count": 60,
   "id": "0c231ad2",
   "metadata": {},
   "outputs": [
    {
     "data": {
      "text/plain": [
       "0"
      ]
     },
     "execution_count": 60,
     "metadata": {},
     "output_type": "execute_result"
    }
   ],
   "source": [
    "obj=generator()\n",
    "next(obj)"
   ]
  },
  {
   "cell_type": "code",
   "execution_count": 61,
   "id": "d50b9846",
   "metadata": {},
   "outputs": [
    {
     "data": {
      "text/plain": [
       "1"
      ]
     },
     "execution_count": 61,
     "metadata": {},
     "output_type": "execute_result"
    }
   ],
   "source": [
    "next(obj)"
   ]
  },
  {
   "cell_type": "code",
   "execution_count": 63,
   "id": "d81f488b",
   "metadata": {},
   "outputs": [
    {
     "data": {
      "text/plain": [
       "9"
      ]
     },
     "execution_count": 63,
     "metadata": {},
     "output_type": "execute_result"
    }
   ],
   "source": [
    "next(obj) # generator is memory efficient"
   ]
  },
  {
   "cell_type": "code",
   "execution_count": 67,
   "id": "a28619dd",
   "metadata": {},
   "outputs": [
    {
     "name": "stdout",
     "output_type": "stream",
     "text": [
      "((1, 2), 5) {'d': 3, 'x': 4}\n"
     ]
    }
   ],
   "source": [
    "# The * operator doesn’t gather keyword arguments. To gather keyword arguments, you can use the ** operator.\n",
    "def printall(*args,**kwargs):\n",
    "    print(args,kwargs)\n",
    "printall((1,2),5,d=3,x=4)"
   ]
  },
  {
   "cell_type": "code",
   "execution_count": 68,
   "id": "e19b66cb",
   "metadata": {},
   "outputs": [],
   "source": [
    "a='''\n",
    "I like\n",
    "kiio\n",
    "soumi\n",
    "'''"
   ]
  },
  {
   "cell_type": "code",
   "execution_count": 70,
   "id": "c84b4da6",
   "metadata": {},
   "outputs": [
    {
     "data": {
      "text/plain": [
       "'\\nI love\\nkiio\\nsoumi\\n'"
      ]
     },
     "execution_count": 70,
     "metadata": {},
     "output_type": "execute_result"
    }
   ],
   "source": [
    "a=a.replace('like','love')\n",
    "a"
   ]
  },
  {
   "cell_type": "code",
   "execution_count": 72,
   "id": "43812e12",
   "metadata": {},
   "outputs": [
    {
     "data": {
      "text/plain": [
       "1"
      ]
     },
     "execution_count": 72,
     "metadata": {},
     "output_type": "execute_result"
    }
   ],
   "source": [
    "a=(1,2,3)\n",
    "a.count(2)"
   ]
  },
  {
   "cell_type": "code",
   "execution_count": 73,
   "id": "e4e8e87c",
   "metadata": {},
   "outputs": [],
   "source": [
    "lst=[1,2,3]\n",
    "lst.insert(2,4)"
   ]
  },
  {
   "cell_type": "code",
   "execution_count": 74,
   "id": "31c9e637",
   "metadata": {},
   "outputs": [
    {
     "data": {
      "text/plain": [
       "[1, 2, 4, 3]"
      ]
     },
     "execution_count": 74,
     "metadata": {},
     "output_type": "execute_result"
    }
   ],
   "source": [
    "lst"
   ]
  },
  {
   "cell_type": "code",
   "execution_count": 75,
   "id": "bbeeb85f",
   "metadata": {},
   "outputs": [
    {
     "data": {
      "text/plain": [
       "{'ankit': 'kiio'}"
      ]
     },
     "execution_count": 75,
     "metadata": {},
     "output_type": "execute_result"
    }
   ],
   "source": [
    "d={'ankit':'kiio','summi':'ankit'}\n",
    "d.pop('summi')\n",
    "d"
   ]
  },
  {
   "cell_type": "code",
   "execution_count": 77,
   "id": "ef35ca7f",
   "metadata": {},
   "outputs": [
    {
     "ename": "TypeError",
     "evalue": "unhashable type: 'set'",
     "output_type": "error",
     "traceback": [
      "\u001b[1;31m---------------------------------------------------------------------------\u001b[0m",
      "\u001b[1;31mTypeError\u001b[0m                                 Traceback (most recent call last)",
      "Cell \u001b[1;32mIn[77], line 1\u001b[0m\n\u001b[1;32m----> 1\u001b[0m \u001b[38;5;28;43mhash\u001b[39;49m\u001b[43m(\u001b[49m\u001b[43m{\u001b[49m\u001b[38;5;241;43m1\u001b[39;49m\u001b[43m,\u001b[49m\u001b[38;5;241;43m2\u001b[39;49m\u001b[43m}\u001b[49m\u001b[43m)\u001b[49m\n",
      "\u001b[1;31mTypeError\u001b[0m: unhashable type: 'set'"
     ]
    }
   ],
   "source": [
    "hash({1,2})"
   ]
  },
  {
   "cell_type": "code",
   "execution_count": 78,
   "id": "b5947532",
   "metadata": {},
   "outputs": [
    {
     "data": {
      "text/plain": [
       "['ankit']"
      ]
     },
     "execution_count": 78,
     "metadata": {},
     "output_type": "execute_result"
    }
   ],
   "source": [
    "'   ankit'.split()\n"
   ]
  },
  {
   "cell_type": "code",
   "execution_count": 79,
   "id": "8a1f8649",
   "metadata": {},
   "outputs": [
    {
     "data": {
      "text/plain": [
       "'ankit'"
      ]
     },
     "execution_count": 79,
     "metadata": {},
     "output_type": "execute_result"
    }
   ],
   "source": [
    "'   ankit'.strip()"
   ]
  },
  {
   "cell_type": "code",
   "execution_count": 81,
   "id": "9dbc490c",
   "metadata": {},
   "outputs": [
    {
     "data": {
      "text/plain": [
       "'ank$$it  '"
      ]
     },
     "execution_count": 81,
     "metadata": {},
     "output_type": "execute_result"
    }
   ],
   "source": [
    "import re\n",
    "re.sub('[@%#]','','ank$$#%%#@i%%t  ')"
   ]
  },
  {
   "cell_type": "code",
   "execution_count": 84,
   "id": "410ed88a",
   "metadata": {},
   "outputs": [
    {
     "data": {
      "text/plain": [
       "[2, 3]"
      ]
     },
     "execution_count": 84,
     "metadata": {},
     "output_type": "execute_result"
    }
   ],
   "source": [
    "list(map(len,[[1,2],[2,4,5]]))"
   ]
  },
  {
   "cell_type": "code",
   "execution_count": 87,
   "id": "99d175b7",
   "metadata": {},
   "outputs": [
    {
     "data": {
      "text/plain": [
       "[1, 2, 3]"
      ]
     },
     "execution_count": 87,
     "metadata": {},
     "output_type": "execute_result"
    }
   ],
   "source": [
    "my_fun=lambda x: sorted(x)\n",
    "my_fun([3,2,1])"
   ]
  },
  {
   "cell_type": "code",
   "execution_count": 88,
   "id": "cac542c8",
   "metadata": {},
   "outputs": [
    {
     "name": "stdout",
     "output_type": "stream",
     "text": [
      "ankit#ankit#ankit#"
     ]
    }
   ],
   "source": [
    "for _ in range(3):\n",
    "    print('ankit',end='#')"
   ]
  },
  {
   "cell_type": "code",
   "execution_count": 2,
   "id": "ceecaee9",
   "metadata": {},
   "outputs": [
    {
     "data": {
      "text/plain": [
       "2"
      ]
     },
     "execution_count": 2,
     "metadata": {},
     "output_type": "execute_result"
    }
   ],
   "source": [
    "'ankit'.index('k')"
   ]
  },
  {
   "cell_type": "code",
   "execution_count": 3,
   "id": "3a8668d9",
   "metadata": {},
   "outputs": [
    {
     "data": {
      "text/plain": [
       "2"
      ]
     },
     "execution_count": 3,
     "metadata": {},
     "output_type": "execute_result"
    }
   ],
   "source": [
    "'ankit'.find('k')"
   ]
  },
  {
   "cell_type": "code",
   "execution_count": 10,
   "id": "bb4c456a",
   "metadata": {},
   "outputs": [
    {
     "name": "stdout",
     "output_type": "stream",
     "text": [
      "['ankit', 'summi', 'kiio', ''] ['I', 'like', 'kiio']\n"
     ]
    }
   ],
   "source": [
    "import re\n",
    "text=\"ankit\\n summi\\t\\t\\r kiio   \"\n",
    "reg=re.compile('\\s+')\n",
    "u=reg.split(text)\n",
    "x=reg.split('I \\r\\t\\n like\\n\\n    kiio')\n",
    "print(u,x)"
   ]
  },
  {
   "cell_type": "code",
   "execution_count": 11,
   "id": "79ee4f96",
   "metadata": {},
   "outputs": [
    {
     "data": {
      "text/plain": [
       "['\\n ', '\\t\\t\\r ', '   ']"
      ]
     },
     "execution_count": 11,
     "metadata": {},
     "output_type": "execute_result"
    }
   ],
   "source": [
    "reg.findall(text)"
   ]
  },
  {
   "cell_type": "code",
   "execution_count": 12,
   "id": "bcaaa3dc",
   "metadata": {},
   "outputs": [],
   "source": [
    "u.remove('')"
   ]
  },
  {
   "cell_type": "code",
   "execution_count": 13,
   "id": "b1b29575",
   "metadata": {},
   "outputs": [
    {
     "data": {
      "text/plain": [
       "['ankit', 'summi', 'kiio']"
      ]
     },
     "execution_count": 13,
     "metadata": {},
     "output_type": "execute_result"
    }
   ],
   "source": [
    "u"
   ]
  },
  {
   "cell_type": "code",
   "execution_count": 14,
   "id": "b686e902",
   "metadata": {},
   "outputs": [
    {
     "data": {
      "text/plain": [
       "'ankit\\n summi\\t\\t\\r kiio'"
      ]
     },
     "execution_count": 14,
     "metadata": {},
     "output_type": "execute_result"
    }
   ],
   "source": [
    "\"ankit\\n summi\\t\\t\\r kiio   \".strip()"
   ]
  },
  {
   "cell_type": "code",
   "execution_count": 22,
   "id": "a28dbd92",
   "metadata": {},
   "outputs": [
    {
     "ename": "SyntaxError",
     "evalue": "(unicode error) 'unicodeescape' codec can't decode bytes in position 2-3: truncated \\xXX escape (2088864503.py, line 1)",
     "output_type": "error",
     "traceback": [
      "\u001b[1;36m  Cell \u001b[1;32mIn[22], line 1\u001b[1;36m\u001b[0m\n\u001b[1;33m    reg.split('C:\\x')\u001b[0m\n\u001b[1;37m                    ^\u001b[0m\n\u001b[1;31mSyntaxError\u001b[0m\u001b[1;31m:\u001b[0m (unicode error) 'unicodeescape' codec can't decode bytes in position 2-3: truncated \\xXX escape\n"
     ]
    }
   ],
   "source": [
    "reg.split('C:\\x')"
   ]
  },
  {
   "cell_type": "code",
   "execution_count": 23,
   "id": "0ef9a414",
   "metadata": {},
   "outputs": [
    {
     "data": {
      "text/plain": [
       "['C:\\\\x']"
      ]
     },
     "execution_count": 23,
     "metadata": {},
     "output_type": "execute_result"
    }
   ],
   "source": [
    "reg.split(r'C:\\x')"
   ]
  },
  {
   "cell_type": "code",
   "execution_count": 24,
   "id": "6a4672b6",
   "metadata": {},
   "outputs": [
    {
     "data": {
      "text/plain": [
       "[]"
      ]
     },
     "execution_count": 24,
     "metadata": {},
     "output_type": "execute_result"
    }
   ],
   "source": [
    "reg.findall(r'C:\\x')"
   ]
  },
  {
   "cell_type": "code",
   "execution_count": 25,
   "id": "1f390102",
   "metadata": {},
   "outputs": [],
   "source": [
    "text = \"\"\"Dave dave@google.com\n",
    "Steve steve@gmail.com\n",
    "Rob rob@gmail.com\n",
    "Ryan ryan@yahoo.com\n",
    "\"\"\"\n",
    "pattern = r'[A-Z0-9._%+-]+@[A-Z0-9.-]+\\.[A-Z]{2,4}'\n",
    "reg=re.compile(pattern,flags=re.IGNORECASE)"
   ]
  },
  {
   "cell_type": "code",
   "execution_count": 26,
   "id": "5605f29a",
   "metadata": {},
   "outputs": [
    {
     "data": {
      "text/plain": [
       "re.compile(r'[A-Z0-9._%+-]+@[A-Z0-9.-]+\\.[A-Z]{2,4}', re.IGNORECASE|re.UNICODE)"
      ]
     },
     "execution_count": 26,
     "metadata": {},
     "output_type": "execute_result"
    }
   ],
   "source": [
    "reg"
   ]
  },
  {
   "cell_type": "code",
   "execution_count": 27,
   "id": "7949c0cd",
   "metadata": {},
   "outputs": [
    {
     "data": {
      "text/plain": [
       "['dave@google.com', 'steve@gmail.com', 'rob@gmail.com', 'ryan@yahoo.com']"
      ]
     },
     "execution_count": 27,
     "metadata": {},
     "output_type": "execute_result"
    }
   ],
   "source": [
    "reg.findall(text)"
   ]
  },
  {
   "cell_type": "code",
   "execution_count": 29,
   "id": "720a6369",
   "metadata": {},
   "outputs": [
    {
     "data": {
      "text/plain": [
       "'Dave Substituted Text\\nSteve Substituted Text\\nRob Substituted Text\\nRyan Substituted Text\\n'"
      ]
     },
     "execution_count": 29,
     "metadata": {},
     "output_type": "execute_result"
    }
   ],
   "source": [
    "#substituion\n",
    "reg.sub('Substituted Text',text)"
   ]
  },
  {
   "cell_type": "code",
   "execution_count": 31,
   "id": "225a3b5b",
   "metadata": {},
   "outputs": [
    {
     "data": {
      "text/plain": [
       "['Dave Substituted Text',\n",
       " 'Steve Substituted Text',\n",
       " 'Rob Substituted Text',\n",
       " 'Ryan Substituted Text',\n",
       " '']"
      ]
     },
     "execution_count": 31,
     "metadata": {},
     "output_type": "execute_result"
    }
   ],
   "source": [
    "reg.sub('Substituted Text',text).split('\\n')"
   ]
  },
  {
   "cell_type": "code",
   "execution_count": 32,
   "id": "188529c0",
   "metadata": {},
   "outputs": [
    {
     "data": {
      "text/plain": [
       "['Dave ', '\\nSteve ', '\\nRob ', '\\nRyan ', '\\n']"
      ]
     },
     "execution_count": 32,
     "metadata": {},
     "output_type": "execute_result"
    }
   ],
   "source": [
    "reg.split(text)"
   ]
  },
  {
   "cell_type": "code",
   "execution_count": 34,
   "id": "45b32720",
   "metadata": {},
   "outputs": [
    {
     "name": "stdout",
     "output_type": "stream",
     "text": [
      "['dave@google.com', 'steve@gmail.com', 'rob@gmail.com', 'ryan@yahoo.com']\n"
     ]
    }
   ],
   "source": [
    "# for grouping\n",
    "new_text=reg.findall(text)\n",
    "print(new_text)"
   ]
  },
  {
   "cell_type": "code",
   "execution_count": 36,
   "id": "bc13cc81",
   "metadata": {},
   "outputs": [],
   "source": [
    "new_pattern=r'([A-Z0-9._%+-]+)@([A-Z0-9.-]+)\\.([A-Z]{2,4})'\n",
    "reg=re.compile(new_pattern,flags=re.IGNORECASE)"
   ]
  },
  {
   "cell_type": "code",
   "execution_count": 37,
   "id": "d5fe03f4",
   "metadata": {},
   "outputs": [],
   "source": [
    "lst=[]\n",
    "for i in new_text:\n",
    "    m=reg.match(i)\n",
    "    lst.append(m.groups())"
   ]
  },
  {
   "cell_type": "code",
   "execution_count": 38,
   "id": "f97595d2",
   "metadata": {},
   "outputs": [
    {
     "data": {
      "text/plain": [
       "[('dave', 'google', 'com'),\n",
       " ('steve', 'gmail', 'com'),\n",
       " ('rob', 'gmail', 'com'),\n",
       " ('ryan', 'yahoo', 'com')]"
      ]
     },
     "execution_count": 38,
     "metadata": {},
     "output_type": "execute_result"
    }
   ],
   "source": [
    "lst"
   ]
  },
  {
   "cell_type": "code",
   "execution_count": 39,
   "id": "ab19193c",
   "metadata": {},
   "outputs": [
    {
     "data": {
      "text/plain": [
       "[('dave', 'google', 'com'),\n",
       " ('steve', 'gmail', 'com'),\n",
       " ('rob', 'gmail', 'com'),\n",
       " ('ryan', 'yahoo', 'com')]"
      ]
     },
     "execution_count": 39,
     "metadata": {},
     "output_type": "execute_result"
    }
   ],
   "source": [
    "reg.findall(text)"
   ]
  },
  {
   "cell_type": "code",
   "execution_count": 40,
   "id": "fb9217e5",
   "metadata": {},
   "outputs": [
    {
     "data": {
      "text/plain": [
       "'Dave Username: dave, Domain: google, Suffix: com\\nSteve Username: steve, Domain: gmail, Suffix: com\\nRob Username: rob, Domain: gmail, Suffix: com\\nRyan Username: ryan, Domain: yahoo, Suffix: com\\n'"
      ]
     },
     "execution_count": 40,
     "metadata": {},
     "output_type": "execute_result"
    }
   ],
   "source": [
    "reg.sub(r'Username: \\1, Domain: \\2, Suffix: \\3',text)"
   ]
  },
  {
   "cell_type": "code",
   "execution_count": 44,
   "id": "e874bcba",
   "metadata": {},
   "outputs": [
    {
     "data": {
      "text/plain": [
       "Dave     dave@google.com\n",
       "Steve    steve@gmail.com\n",
       "Rob        rob@gmail.com\n",
       "Wes                  NaN\n",
       "dtype: object"
      ]
     },
     "execution_count": 44,
     "metadata": {},
     "output_type": "execute_result"
    }
   ],
   "source": [
    "import numpy as np\n",
    "import pandas as pd\n",
    "data = {'Dave': 'dave@google.com', 'Steve': 'steve@gmail.com','Rob': 'rob@gmail.com', 'Wes': np.nan}\n",
    "data = pd.Series(data)\n",
    "data"
   ]
  },
  {
   "cell_type": "code",
   "execution_count": 45,
   "id": "9f987722",
   "metadata": {},
   "outputs": [
    {
     "data": {
      "text/plain": [
       "Dave     False\n",
       "Steve     True\n",
       "Rob       True\n",
       "Wes        NaN\n",
       "dtype: object"
      ]
     },
     "execution_count": 45,
     "metadata": {},
     "output_type": "execute_result"
    }
   ],
   "source": [
    "data.str.contains('gmail')"
   ]
  },
  {
   "cell_type": "code",
   "execution_count": 47,
   "id": "e8cef6c5",
   "metadata": {},
   "outputs": [
    {
     "data": {
      "text/plain": [
       "Dave     [(dave, google, com)]\n",
       "Steve    [(steve, gmail, com)]\n",
       "Rob        [(rob, gmail, com)]\n",
       "Wes                        NaN\n",
       "dtype: object"
      ]
     },
     "execution_count": 47,
     "metadata": {},
     "output_type": "execute_result"
    }
   ],
   "source": [
    "data.str.findall(new_pattern,flags=re.IGNORECASE)"
   ]
  },
  {
   "cell_type": "code",
   "execution_count": 48,
   "id": "71968d3b",
   "metadata": {},
   "outputs": [
    {
     "data": {
      "text/plain": [
       "Dave     True\n",
       "Steve    True\n",
       "Rob      True\n",
       "Wes       NaN\n",
       "dtype: object"
      ]
     },
     "execution_count": 48,
     "metadata": {},
     "output_type": "execute_result"
    }
   ],
   "source": [
    "data.str.match(new_pattern,flags=re.IGNORECASE)"
   ]
  },
  {
   "cell_type": "code",
   "execution_count": 49,
   "id": "c75f976b",
   "metadata": {},
   "outputs": [
    {
     "data": {
      "text/plain": [
       "Dave     dave@\n",
       "Steve    steve\n",
       "Rob      rob@g\n",
       "Wes        NaN\n",
       "dtype: object"
      ]
     },
     "execution_count": 49,
     "metadata": {},
     "output_type": "execute_result"
    }
   ],
   "source": [
    "data.str[:5]"
   ]
  },
  {
   "cell_type": "code",
   "execution_count": null,
   "id": "39d733e0",
   "metadata": {},
   "outputs": [],
   "source": []
  }
 ],
 "metadata": {
  "kernelspec": {
   "display_name": "Python 3 (ipykernel)",
   "language": "python",
   "name": "python3"
  },
  "language_info": {
   "codemirror_mode": {
    "name": "ipython",
    "version": 3
   },
   "file_extension": ".py",
   "mimetype": "text/x-python",
   "name": "python",
   "nbconvert_exporter": "python",
   "pygments_lexer": "ipython3",
   "version": "3.9.18"
  }
 },
 "nbformat": 4,
 "nbformat_minor": 5
}
